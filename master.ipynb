{
 "cells": [
  {
   "cell_type": "code",
   "execution_count": 1,
   "metadata": {},
   "outputs": [],
   "source": [
    "import time\n",
    "import urllib.request\n",
    "from optparse import OptionParser\n",
    "import requests, zipfile, io\n",
    "import gzip"
   ]
  },
  {
   "cell_type": "code",
   "execution_count": 2,
   "metadata": {},
   "outputs": [
    {
     "data": {
      "text/plain": [
       "1589059093.0232387"
      ]
     },
     "execution_count": 2,
     "metadata": {},
     "output_type": "execute_result"
    }
   ],
   "source": [
    "start = time.time()\n",
    "start"
   ]
  },
  {
   "cell_type": "code",
   "execution_count": 3,
   "metadata": {},
   "outputs": [],
   "source": [
    "#print('Beginning file GO download with urllib2...')\n",
    "#urlGo = 'http://geneontology.org/gene-associations/'\n",
    "#filename = \"goa_human.gaf.gz\"\n",
    "#filenameInFolder = \"goa_human_downloaded.gaf\"\n",
    "#outFilePath = filename[:-3]"
   ]
  },
  {
   "cell_type": "code",
   "execution_count": 4,
   "metadata": {},
   "outputs": [],
   "source": [
    "#print('Beginning file HPO download with urllib2...')\n",
    "##url = 'http://compbio.charite.de/jenkins/job/hpo.annotations.monthly/lastSuccessfulBuild/artifact/annotation/ALL_SOURCES_ALL_FREQUENCIES_genes_to_phenotype.txt'\n",
    "#url = 'http://compbio.charite.de/jenkins/job/hpo.annotations/lastBuild/artifact/util/annotation/genes_to_phenotype.txt';\n",
    "#urllib.request.urlretrieve(url, 'C:/Users/Aco/Desktop/annovar - jupyter/allHPODownload.txt')"
   ]
  },
  {
   "cell_type": "code",
   "execution_count": 5,
   "metadata": {},
   "outputs": [],
   "source": [
    "output = open(\"output.txt\", \"r+\")\n",
    "outputNrna = open(\"outputNrnaExonic.txt\", \"r+\")"
   ]
  },
  {
   "cell_type": "code",
   "execution_count": 6,
   "metadata": {},
   "outputs": [],
   "source": [
    "#parse goa_human.gaf file with GO info\n",
    "def getGOdata(filename):\n",
    "    geneGO = {}\n",
    "    count = 0\n",
    "    with open(filename, 'r') as goaHuman:\n",
    "        for line in goaHuman:\n",
    "            pos = line.find(\"GO:\")\n",
    "            firstTab = line.find(\"\\t\")\n",
    "            secondTab = line.find(\"\\t\", firstTab+1)\n",
    "            thirdTab = line.find(\"\\t\", secondTab+1)\n",
    "            gene = line[secondTab+1:thirdTab]\n",
    "            val = thirdTab+1\n",
    "            function = \" \"\n",
    "            if pos != -1:\n",
    "                go = line[pos:pos+10]\n",
    "                \n",
    "                #functionWhole = line[thirdTab:endTab] + '<br />'\n",
    "\n",
    "                if gene in geneGO:\n",
    "                    current = [currentGeneInfo[0] for currentGeneInfo in geneGO[gene]]\n",
    "                    if go not in current:\n",
    "                        geneGO[gene].append((go, function))\n",
    "                    #geneGO[gene].append((go, functionWhole))\n",
    "                else:\n",
    "                    geneGO[gene] = [(go, function)]\n",
    "                    #print(str(pos) + \" :prvi\" + go)\n",
    "\n",
    "            #if count > 30:\n",
    "               #break\n",
    "\n",
    "    print (len(geneGO.keys()))\n",
    "    return geneGO"
   ]
  },
  {
   "cell_type": "code",
   "execution_count": 7,
   "metadata": {},
   "outputs": [],
   "source": [
    "#parse file with HPO info\n",
    "def getHPOdata(filename):\n",
    "    #phenotypes\n",
    "    geneHpo = {}\n",
    "\n",
    "    with open(filename, \"r\") as allHpo:\n",
    "        for line in allHpo:\n",
    "            pos = line.find(\"\\t\")\n",
    "            if pos == -1:\n",
    "                continue\n",
    "            endOfGene = line.find(\"\\t\", pos+1)\n",
    "            gene = line[pos+1:endOfGene]\n",
    "\n",
    "            hpoStart = endOfGene+1\n",
    "            hpoEnd = hpoStart+10\n",
    "            hpo = line[hpoStart : hpoEnd]\n",
    "\n",
    "            #phenotypeStart = hpoEnd+1\n",
    "            #phenotypeEnd = line.find(\"\\t\", phenotypeStart+1)\n",
    "            #phenotype = line[phenotypeStart : phenotypeEnd]\n",
    "            phenotype = \"fenotip\"\n",
    "            \n",
    "            if gene in geneHpo:\n",
    "                currentHpo = [currentGeneInfoH[0] for currentGeneInfoH in geneHpo[gene]]\n",
    "                if hpo not in currentHpo:\n",
    "                    geneHpo[gene].append(hpo)\n",
    "            else:\n",
    "                geneHpo[gene] = [hpo]\n",
    "            #print(gene+\" \" + hpo  + \" \" + phenotype)\n",
    "    return geneHpo\n"
   ]
  },
  {
   "cell_type": "code",
   "execution_count": 8,
   "metadata": {},
   "outputs": [],
   "source": [
    "#parse info from annotation file\n",
    "def getVariationsData(fileName):\n",
    "    variations = {}\n",
    "    allExonicGenes = ''\n",
    "    geneInfo = {}\n",
    "\n",
    "    with open(fileName, 'r') as varFile:\n",
    "        for line in varFile:\n",
    "            pos = line.find(\"exonic\")\n",
    "            if pos != -1:\n",
    "                currentGenePositionEnd = line.find(\"\\t\", pos+7) #pos+7 is start\n",
    "                currentGene = line[pos+7:currentGenePositionEnd]\n",
    "                begin = -1\n",
    "                #for i in range(0, 9): \n",
    "                #    val = line.find(\"\\t\", val + 1)\n",
    "                #line[:val].replace(\"\\t\", \"</td><td>\")\n",
    "                begin = line.find(\"\\t\")\n",
    "                chro = line[:begin]\n",
    "                end = line.find(\"\\t\", begin+1)\n",
    "                startVar = line[begin+1:end]\n",
    "                begin = end+1\n",
    "                end = line.find(\"\\t\", begin)\n",
    "                endVar = line[begin:end]\n",
    "                begin = end+1\n",
    "                end = line.find(\"\\t\", begin)\n",
    "                ref = line[begin:end]\n",
    "                begin = end+1\n",
    "                end = line.find(\"\\t\", begin)\n",
    "                alt = line[begin:end]\n",
    "                #exonic, currentGene\n",
    "                geneDetailEnd = line.find(\"\\t\", currentGenePositionEnd + 1)\n",
    "                geneDetail = line[currentGenePositionEnd+1 : geneDetailEnd]\n",
    "                \n",
    "                exonicFuncEnd = line.find(\"\\t\", geneDetailEnd + 1)\n",
    "                exonicFunc = line[geneDetailEnd + 1 : exonicFuncEnd]\n",
    "                \n",
    "                if currentGene in variations:\n",
    "                    variations[currentGene].append((startVar, endVar, ref, alt, chro, geneDetail, exonicFunc))\n",
    "                else:\n",
    "                    variations[currentGene] = [(startVar, endVar, ref, alt, chro, geneDetail, exonicFunc)]\n",
    "                \n",
    "    return variations"
   ]
  },
  {
   "cell_type": "code",
   "execution_count": 9,
   "metadata": {},
   "outputs": [],
   "source": [
    "def createOutput(fileName):\n",
    "    \n",
    "    goFile = \"goa_human.gaf\"\n",
    "    hpoFile = \"allHPODownload.txt\"\n",
    "    \n",
    "    geneGO = getGOdata(goFile)\n",
    "    geneHpo = getHPOdata(hpoFile)\n",
    "    variations = getVariationsData(fileName)\n",
    "    print (len(variations.keys()))\n",
    "    \n",
    "    outputFileName = \"outputHtml\" + fileName[:fileName.find('.')] + \".html\"\n",
    "    outputHtml = open(outputFileName, \"w+\")\n",
    "    \n",
    "    outputHtml.write(\"<!DOCTYPE html>\\n\")\n",
    "    outputHtml.write(\"<html><body><head>\")\n",
    "    outputHtml.write(\"<script src='https://ajax.googleapis.com/ajax/libs/jquery/3.4.1/jquery.min.js'></script>\")\n",
    "    outputHtml.write(\"<script type=\\\"text/javascript\\\" charset=\\\"utf8\\\" src=\\\"https://cdn.datatables.net/1.10.20/js/jquery.dataTables.js\\\"></script>\")\n",
    "    outputHtml.write(\"<script src='scriptFile.js'></script>\")\n",
    "    outputHtml.write(\"<link rel=\\\"stylesheet\\\" type=\\\"text/css\\\" href=\\\"https://cdn.datatables.net/1.10.20/css/jquery.dataTables.css\\\"></head>\")\n",
    "    outputHtml.write(\"\")\n",
    "    outputHtml.write(\"<div id=\\\"showXYfunctions\\\">Show  <select id=\\\"showXFunctions\\\"><option value=\\\"5\\\">5</option><option value=\\\"10\\\">10</option><option value=\\\"15\\\">15</option><option value=\\\"20\\\">20</option><option value=\\\"25\\\">25</option><option value=\\\"30\\\">30</option></select>functions</div>\")\n",
    "    outputHtml.write(\"<div class=\\\"dataTables_length\\\"></div>\")\n",
    "    outputHtml.write(\"<table id=\\\"annotationTable\\\" class=\\\"display cell-border\\\" style=\\\"text-align:center\\\">\")\n",
    "    outputHtml.write(\"<thead><tr><th>Chr</th><th>Start</th><th>End</th><th>Ref</th><th>Alt</th><th>Func.refGene</th><th>Gene.refGene</th><th>GeneDetail.refGene</th><th>ExonicFunc.refGene</th><th>GO functions</th><th>HPO functions</th></tr></thead><tbody>\")\n",
    "    \n",
    "    startURL = \"<a href = \\\"https://www.ebi.ac.uk/QuickGO/term/\"\n",
    "    startURLhpo = \"<a href = \\\"https://hpo.jax.org/app/browse/term/\"\n",
    "    aTagOpen = \"<a\"\n",
    "    aTagClosed = \"</a>\"\n",
    "\n",
    "    counterExonic = 0\n",
    "    counterNrnaExonic = 0\n",
    "    counterNo = 0\n",
    "    counter = 0\n",
    "    allExonicGenes = \"\"\n",
    "    #list of all gene IDs for Uniprot convert\n",
    "    with open(fileName, 'r') as file:\n",
    "        for line in file:\n",
    "            #line = file.readline()\n",
    "            pos = line.find(\"exonic\")\n",
    "            if pos != -1:            \n",
    "                currentGenePositionEnd = line.find(\"\\t\", pos+7) #pos+7 is start\n",
    "                currentGene = line[pos+7:currentGenePositionEnd]\n",
    "                if allExonicGenes.find(currentGene) == -1:\n",
    "                    #goNo, hpoNo, ncRna = False\n",
    "\n",
    "                    counter = counter + 1\n",
    "                    allExonicGenes = allExonicGenes + currentGene\n",
    "                    outputHtml.write(\"<tr><td>\")\n",
    "                    val = -1\n",
    "\n",
    "                    #column chr\n",
    "                    outputHtml.write(variations[currentGene][0][4] + \"</td><td>\")\n",
    "\n",
    "                    #columns start, end, ref, alt\n",
    "                    for i in range(0, 4):\n",
    "                        outputHtml.write(\" \".join(str(e[i] + \"<br />\") for e in variations[currentGene]))\n",
    "                        outputHtml.write(\"</td><td>\")\n",
    "\n",
    "                    #column exonic\n",
    "                    outputHtml.write(\"exonic</td><td>\")\n",
    "\n",
    "                    #column gene\n",
    "                    outputHtml.write(currentGene + \"</td><td>\")\n",
    "\n",
    "                    #geneDetail\n",
    "                    outputHtml.write(variations[currentGene][0][5] + \"</td><td>\")\n",
    "\n",
    "                    #exonic.Func                \n",
    "                    outputHtml.write(\" \".join(str(e[6] + \"<br />\") for e in variations[currentGene]))\n",
    "                    outputHtml.write(\"</td><td>\")\n",
    "\n",
    "                    #if line[pos-1:pos] == \"\\t\":\n",
    "                        #counterExonic = counterExonic + 1\n",
    "                        #output.write(currentGene)\n",
    "                        #output.write(\" \")\n",
    "                    #else:\n",
    "                        #counterNrnaExonic = counterNrnaExonic + 1\n",
    "                        #outputNrna.write(currentGene)\n",
    "                        #outputNrna.write(\" \")\n",
    "                        #ncRna = True                    \n",
    "\n",
    "                    if currentGene in geneGO:\n",
    "                        #outputHtml.write(\"*\".join(str(startURL + e[0] +\"\\\" target=\\\"_blank\\\">\" + e[1] + aTagClosed)  for e in geneGO[currentGene])+ \" \")#[:5]) + \" \") #GO\n",
    "                        if len(geneGO[currentGene]) > 5:\n",
    "                            outputHtml.write(\" \".join(str(startURL + e[0] +\"\\\" target=\\\"_blank\\\">\" + e[0] + \"<br />\" + aTagClosed)  for e in geneGO[currentGene][:5]) + \" \") #GO\n",
    "                            outputHtml.write(\" \".join(str(startURL + e[0] +\"\\\" target=\\\"_blank\\\" style=\\\"display:none\\\">\" + e[0] + \"<br /> \" +aTagClosed)  for e in geneGO[currentGene][5:]) + \" \") #GO\n",
    "                            #outputHtml.write(\"<datalist id=\"+\"GOs>\" + \" \".join(str(\"<option value=\" + \"<a href = https://www.ebi.ac.uk/QuickGO/term/\" + e + \">\" + e + \"</a> >\") for e in geneGO[currentGene][5:]) + \"</datalist>\") \n",
    "                        elif len(geneGO[currentGene]) >= 1:\n",
    "                            outputHtml.write(\"<br />\".join(str(startURL + e[0] +\"\\\" target=\\\"_blank\\\">\" + e[0] + aTagClosed)  for e in geneGO[currentGene][:5]) + \" \") #GO\n",
    "\n",
    "                    outputHtml.write(\"</td><td>\")\n",
    "\n",
    "                    if currentGene in geneHpo:\n",
    "                        if len(geneHpo[currentGene]) > 5:\n",
    "                            outputHtml.write(\" \".join(str(startURLhpo + e +\"\\\" target=\\\"_blank\\\">\" + e + \"<br />\" + aTagClosed) for e in geneHpo[currentGene][:5]))\n",
    "                            outputHtml.write(\" \".join(str(startURLhpo + e +\"\\\" target=\\\"_blank\\\" style=\\\"display:none\\\">\" + e + \"<br /> \" +aTagClosed) for e in geneHpo[currentGene][5:]))\n",
    "                        elif len(geneHpo[currentGene]) >=1:\n",
    "                            outputHtml.write(\" \".join(str(startURLhpo + e +\"\\\" target=\\\"_blank\\\">\" + e + aTagClosed) for e in geneHpo[currentGene][:5]))\n",
    "                            #outputHtml.write(\"</td><td>\")\n",
    "                        #else:\n",
    "                            #outputHtml.write(\"no info\")\n",
    "                            #hpoNo = True\n",
    "                            #if goNo and ncRna:\n",
    "                                #counterNo = counterNo + 1\n",
    "\n",
    "                    outputHtml.write(\"</td></tr>\\n\")\n",
    "\n",
    "    endOfTable = \"<tfoot><tr><th>Chr</th><th>Start</th><th>End</th><th>Ref</th><th>Alt</th><th>Func.refGene</th><th>Gene.refGene</th><th>GeneDetail.refGene</th><th>ExonicFunc.refGene</th><th>GO functions</th><th>HPO functions</th></tr></tfoot></table>\"\n",
    "    outputHtml.write(\"</tbody>\")\n",
    "    outputHtml.write(endOfTable)\n",
    "    outputHtml.write(\"</body></html>\")\n"
   ]
  },
  {
   "cell_type": "code",
   "execution_count": 10,
   "metadata": {},
   "outputs": [
    {
     "name": "stdout",
     "output_type": "stream",
     "text": [
      "19675\n",
      "11317\n"
     ]
    }
   ],
   "source": [
    "#createOutput(\"momAll.txt\")\n",
    "createOutput(\"dadAll.txt\")\n",
    "#createOutput(\"sonAll.txt\")"
   ]
  },
  {
   "cell_type": "code",
   "execution_count": 12,
   "metadata": {},
   "outputs": [
    {
     "name": "stdout",
     "output_type": "stream",
     "text": [
      "Duration: 117.38722658157349s\n"
     ]
    }
   ],
   "source": [
    "end = time.time()\n",
    "print(\"Duration: \" + str(end-start) + \"s\")"
   ]
  },
  {
   "cell_type": "code",
   "execution_count": null,
   "metadata": {},
   "outputs": [],
   "source": []
  }
 ],
 "metadata": {
  "kernelspec": {
   "display_name": "Python 3",
   "language": "python",
   "name": "python3"
  },
  "language_info": {
   "codemirror_mode": {
    "name": "ipython",
    "version": 3
   },
   "file_extension": ".py",
   "mimetype": "text/x-python",
   "name": "python",
   "nbconvert_exporter": "python",
   "pygments_lexer": "ipython3",
   "version": "3.7.4"
  }
 },
 "nbformat": 4,
 "nbformat_minor": 2
}
