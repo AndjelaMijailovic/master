{
 "cells": [
  {
   "cell_type": "code",
   "execution_count": 1,
   "metadata": {},
   "outputs": [],
   "source": [
    "import time\n",
    "import urllib.request\n",
    "from urllib.request import urlopen\n",
    "from optparse import OptionParser\n",
    "import requests, zipfile, io\n",
    "import gzip\n",
    "import io"
   ]
  },
  {
   "cell_type": "code",
   "execution_count": 2,
   "metadata": {},
   "outputs": [
    {
     "data": {
      "text/plain": [
       "1591651936.3395028"
      ]
     },
     "execution_count": 2,
     "metadata": {},
     "output_type": "execute_result"
    }
   ],
   "source": [
    "start = time.time()\n",
    "start"
   ]
  },
  {
   "cell_type": "code",
   "execution_count": null,
   "metadata": {},
   "outputs": [],
   "source": []
  },
  {
   "cell_type": "code",
   "execution_count": 3,
   "metadata": {},
   "outputs": [],
   "source": [
    "little = -1\n",
    "#urlGo = 'http://geneontology.org/gene-associations/'\n",
    "urlGo = 'http://current.geneontology.org/annotations/goa_human.gaf.gz'\n",
    "urlHpo = 'http://compbio.charite.de/jenkins/job/hpo.annotations/lastBuild/artifact/util/annotation/genes_to_phenotype.txt';\n",
    "#urlHpo = 'http://compbio.charite.de/jenkins/job/hpo.annotations.monthly/lastSuccessfulBuild/artifact/annotation/ALL_SOURCES_ALL_FREQUENCIES_genes_to_phenotype.txt'\n",
    "\n",
    "#try:\n",
    "#    opts, args = getopt.getopt(sys.argv[1:],\"hi:o:\",[\"ifile=\",\"ofile=\"])\n",
    "    \n",
    "#    for opt, arg in opts:\n",
    "#        if opt == '-h':\n",
    "#            print ('usage')\n",
    "#            sys.exit()\n",
    "#        elif opt in (\"-i\", \"--ifile\"):\n",
    "#            urlGo = arg\n",
    "#        elif opt in (\"-o\", \"--ofile\"):\n",
    "#            urlHpo = arg\n",
    "#        elif opt in (\"-s\", \"--short\")\n",
    "#            little = arg\n",
    "\n",
    "#except getopt.GetoptError:\n",
    "#    print ('some mistake')"
   ]
  },
  {
   "cell_type": "code",
   "execution_count": 4,
   "metadata": {},
   "outputs": [
    {
     "name": "stdout",
     "output_type": "stream",
     "text": [
      "Preparing ontology files. . . \n",
      "Beginning file GO download with urllib2...\n",
      "GO file has been downloaded\n"
     ]
    }
   ],
   "source": [
    "print('Preparing ontology files. . . ')\n",
    "\n",
    "print('Beginning file GO download with urllib2...')\n",
    "filenameGO = \"goa_human.gaf.gz\"\n",
    "path = 'C:/Users/Aco/Desktop/annovar - jupyter'\n",
    "fileGOpath = \"goa_human.gaf\"\n",
    "#urllib.request.urlretrieve(urlGo, path + '/' + filenameGO)\n",
    "\n",
    "print ('GO file has been downloaded')\n"
   ]
  },
  {
   "cell_type": "code",
   "execution_count": 5,
   "metadata": {},
   "outputs": [
    {
     "name": "stdout",
     "output_type": "stream",
     "text": [
      "Beginning file HPO download with urllib2...\n",
      "HPO file has been downloaded\n"
     ]
    }
   ],
   "source": [
    "\n",
    "print('Beginning file HPO download with urllib2...')\n",
    "filenameHpo = 'allHPODownload.txt'\n",
    "#urllib.request.urlretrieve(urlHpo, path + '/' + filenameHpo)\n",
    "print ('HPO file has been downloaded')"
   ]
  },
  {
   "cell_type": "code",
   "execution_count": 6,
   "metadata": {},
   "outputs": [],
   "source": [
    "output = open(\"output.txt\", \"r+\")\n",
    "outputNrna = open(\"outputNrnaExonic.txt\", \"r+\")"
   ]
  },
  {
   "cell_type": "code",
   "execution_count": 7,
   "metadata": {},
   "outputs": [],
   "source": [
    "#parse goa_human.gaf file with GO info\n",
    "def getGOdata(filename):\n",
    "    geneGO = {}\n",
    "    count = 0\n",
    "    with gzip.open(filename, 'rb') as goaHuman:\n",
    "        for line in goaHuman:\n",
    "            line = line.decode()\n",
    "            pos = line.find(\"GO:\")\n",
    "            firstTab = line.find(\"\\t\")\n",
    "            secondTab = line.find(\"\\t\", firstTab+1)\n",
    "            thirdTab = line.find(\"\\t\", secondTab+1)\n",
    "            gene = line[secondTab+1:thirdTab]\n",
    "            val = thirdTab+1\n",
    "            function = \"go tooltip\"\n",
    "            if pos != -1:\n",
    "                go = line[pos:pos+10]\n",
    "                #if line[val:pos].strip() == \"NOT\":\n",
    "                    #go = \"NOT \" + go #rather not 'not go functions' go function is better\n",
    "                \n",
    "                #functionWhole = line[thirdTab:endTab] + '<br />'\n",
    "\n",
    "                if gene in geneGO:\n",
    "                    current = [currentGeneInfo[0] for currentGeneInfo in geneGO[gene]]\n",
    "                    if go not in current:\n",
    "                        geneGO[gene].append((go, function))\n",
    "                    #geneGO[gene].append((go, functionWhole))\n",
    "                else:\n",
    "                    geneGO[gene] = [(go, function)]\n",
    "                    #print(str(pos) + \" :prvi\" + go)\n",
    "\n",
    "            #if count > 30:\n",
    "               #break\n",
    "\n",
    "    print (\"goa_human.gaf data: \" + str(len(geneGO.keys())))\n",
    "    return geneGO\n",
    "\n",
    "#getGOdata(\"goa_human.gaf.gz\")"
   ]
  },
  {
   "cell_type": "code",
   "execution_count": 8,
   "metadata": {},
   "outputs": [],
   "source": [
    "#parse file with HPO info\n",
    "def getHPOdata(filename):\n",
    "    #phenotypes\n",
    "    geneHpo = {}\n",
    "\n",
    "    with open(filename, \"r\") as allHpo:\n",
    "        for line in allHpo:\n",
    "            pos = line.find(\"\\t\")\n",
    "            if pos == -1:\n",
    "                continue\n",
    "            endOfGene = line.find(\"\\t\", pos+1)\n",
    "            gene = line[pos+1:endOfGene]\n",
    "\n",
    "            hpoStart = endOfGene+1\n",
    "            hpoEnd = hpoStart+10\n",
    "            hpo = line[hpoStart : hpoEnd]\n",
    "\n",
    "            #phenotypeStart = hpoEnd+1\n",
    "            #phenotypeEnd = line.find(\"\\t\", phenotypeStart+1)\n",
    "            #phenotype = line[phenotypeStart : phenotypeEnd]\n",
    "            phenotype = \"phenotype tooltip\"\n",
    "            \n",
    "            if gene in geneHpo:\n",
    "                currentHpo = [currentGeneInfoH[0] for currentGeneInfoH in geneHpo[gene]]\n",
    "                if hpo not in currentHpo:\n",
    "                    geneHpo[gene].append((hpo, phenotype))\n",
    "            else:\n",
    "                geneHpo[gene] = [(hpo, phenotype)]\n",
    "            #print(gene+\" \" + hpo  + \" \" + phenotype)\n",
    "    return geneHpo\n"
   ]
  },
  {
   "cell_type": "code",
   "execution_count": 9,
   "metadata": {},
   "outputs": [],
   "source": [
    "#parse info from annotation file\n",
    "def getVariationsData(fileName):\n",
    "    \n",
    "    variations = {}\n",
    "    allExonicGenes = ''\n",
    "    geneInfo = {}\n",
    "\n",
    "    annovarGenes = open(\"annovarGenes.txt\", \"w+\")\n",
    "\n",
    "    with open(fileName, 'r') as varFile:\n",
    "        for line in varFile:\n",
    "            pos = line.find(\"\\texonic\")\n",
    "            if pos != -1:\n",
    "                pos = pos + 1\n",
    "                currentGenePositionEnd = line.find(\"\\t\", pos+7) #pos+7 is start\n",
    "                currentGene = line[pos+7:currentGenePositionEnd]\n",
    "                \n",
    "                begin = -1\n",
    "                #for i in range(0, 9): \n",
    "                #    val = line.find(\"\\t\", val + 1)\n",
    "                #line[:val].replace(\"\\t\", \"</td><td>\")\n",
    "                begin = line.find(\"\\t\")\n",
    "                chro = line[:begin]\n",
    "                end = line.find(\"\\t\", begin+1)\n",
    "                startVar = line[begin+1:end]\n",
    "                begin = end+1\n",
    "                end = line.find(\"\\t\", begin)\n",
    "                endVar = line[begin:end]\n",
    "                begin = end+1\n",
    "                end = line.find(\"\\t\", begin)\n",
    "                ref = line[begin:end]\n",
    "                begin = end+1\n",
    "                end = line.find(\"\\t\", begin)\n",
    "                alt = line[begin:end]\n",
    "                #exonic, currentGene\n",
    "                geneDetailEnd = line.find(\"\\t\", currentGenePositionEnd + 1)\n",
    "                #geneDetail = line[currentGenePositionEnd+1 : geneDetailEnd]\n",
    "                \n",
    "                exonicFuncEnd = line.find(\"\\t\", geneDetailEnd + 1)\n",
    "                exonicFunc = line[geneDetailEnd + 1 : exonicFuncEnd]\n",
    "                \n",
    "                if currentGene in variations:\n",
    "                    variations[currentGene].append((startVar, endVar, ref, alt, exonicFunc, chro))#, geneDetail, exonicFunc))\n",
    "                else:\n",
    "                    variations[currentGene] = [(startVar, endVar, ref, alt, exonicFunc, chro)] #geneDetail, exonicFunc)]\n",
    "    \n",
    "    annovarGenes.write(\" \".join(str(g) for g in variations.keys()))\n",
    "    print(str(len(variations.keys())))\n",
    "    return variations"
   ]
  },
  {
   "cell_type": "code",
   "execution_count": 10,
   "metadata": {},
   "outputs": [],
   "source": [
    "#variations = getVariationsData(\"momAll.txt\")"
   ]
  },
  {
   "cell_type": "code",
   "execution_count": 11,
   "metadata": {},
   "outputs": [],
   "source": [
    "def createOutput(fileName, goFile = \"goa_human.gaf.gz\", hpoFile = \"allHPODownload.txt\"):\n",
    "    \n",
    "    #goFile = \"goa_human.gaf.gz\"\n",
    "    #hpoFile = \"allHPODownload.txt\"\n",
    "    \n",
    "    geneGO = getGOdata(goFile)\n",
    "    geneHpo = getHPOdata(hpoFile)\n",
    "    variations = getVariationsData(fileName)\n",
    "    print (\"Variations: \" + str(len(variations.keys())))\n",
    "    \n",
    "    outputFileName = \"outputHtml\" + fileName[:fileName.find('.')] + \"200test5.1.html\"\n",
    "    outputHtml = open(outputFileName, \"w+\")\n",
    "    \n",
    "    outputHtml.write(\"<!DOCTYPE html>\\n\")\n",
    "    outputHtml.write(\"<html><body><head>\")\n",
    "    outputHtml.write(\"<script src=\\\"https://ajax.googleapis.com/ajax/libs/jquery/3.4.1/jquery.min.js\\\"></script>\")\n",
    "    \n",
    "    #datatable\n",
    "    outputHtml.write(\"<script type=\\\"text/javascript\\\" charset=\\\"utf8\\\" src=\\\"https://cdn.datatables.net/1.10.20/js/jquery.dataTables.js\\\"></script>\\n\")\n",
    "    outputHtml.write(\"<link rel=\\\"stylesheet\\\" type=\\\"text/css\\\" href=\\\"https://cdn.datatables.net/1.10.20/css/jquery.dataTables.css\\\">\\n\")\n",
    "    \n",
    "    #checkbox\n",
    "    #outputHtml.write(\"<script type=\\\"text/javascript\\\" charset=\\\"utf8\\\" src=\\\"https://cdn.datatables.net/select/1.3.1/js/dataTables.select.min.js\\\"></script>\")\n",
    "    #outputHtml.write(\"<link rel=\\\"stylesheet\\\" type=\\\"text/css\\\" href=\\\"https://cdn.datatables.net/select/1.3.1/css/select.dataTables.min.css\\\">\")\n",
    "    outputHtml.write(\"<script type=\\\"text/javascript\\\" charset=\\\"utf8\\\" src=\\\"https://gyrocode.github.io/jquery-datatables-checkboxes/1.2.11/js/dataTables.checkboxes.min.js\\\"></script>\\n\")\n",
    "    outputHtml.write(\"<link rel=\\\"stylesheet\\\" type=\\\"text/css\\\" href=\\\"https://gyrocode.github.io/jquery-datatables-checkboxes/1.2.11/css/dataTables.checkboxes.css\\\">\\n\")\n",
    "    \n",
    "    #include bootstrap for tooltip\n",
    "    #outputHtml.write(\"<script src=\\\"https://maxcdn.bootstrapcdn.com/bootstrap/3.4.1/js/bootstrap.min.js\\\"></script>\")\n",
    "    #outputHtml.write(\"<link rel=\\\"stylesheet\\\" href=\\\"https://maxcdn.bootstrapcdn.com/bootstrap/3.4.1/css/bootstrap.min.css\\\">\")\n",
    "    \n",
    "    #include tippy for tooltip\n",
    "    outputHtml.write(\"<script src=\\\"https://unpkg.com/@popperjs/core@2/dist/umd/popper.min.js\\\"></script>\")\n",
    "    outputHtml.write(\"<script src=\\\"https://unpkg.com/tippy.js@6/dist/tippy-bundle.umd.js\\\"></script>\")\n",
    "\n",
    "    outputHtml.write(\"<link rel=\\\"stylesheet\\\" href=\\\"cssFile.css\\\">\")\n",
    "    outputHtml.write(\"<script src='scriptFile.js'></script></head>\")\n",
    "    outputHtml.write(\"\")\n",
    "    outputHtml.write(\"<div style=\\\"text-align:center\\\"><span style=\\\"font-size:26px;\\\">Function and phenotype terms associated with human exonic variations</span><br />\")\n",
    "    outputHtml.write(\"<span style=\\\"font-size:18px\\\">GO version: 2020-03-23. <br /> HPO version: #1271 Mar 27, 2020</span></div>\")\n",
    "    #export button\n",
    "    outputHtml.write(\"<div id=\\\"firstXrows\\\"><label for=\\\"numberOfRows\\\">Select first</label> <input type=\\\"number\\\" id=\\\"rowsNumber\\\" name=\\\"numberOfRows\\\" style=\\\"width:50px\\\" min = 1> rows</div>\")\n",
    "    outputHtml.write(\"<div><input type=\\\"button\\\" value=\\\"Export selected rows to CSV\\\" id=\\\"exportcsv\\\" onclick=\\\"exportCSV()\\\"></div>\")\n",
    "    \n",
    "    outputHtml.write(\"<div id=\\\"showXYfunctions\\\">Show  <select id=\\\"showXFunctions\\\"><option value=\\\"10\\\">10</option><option value=\\\"20\\\">20</option><option value=\\\"30\\\">30</option><option value=\\\"all\\\">all</option></select>functions</div>\")\n",
    "    outputHtml.write(\"<div class=\\\"dataTables_length\\\"></div>\")\n",
    "    outputHtml.write(\"<table id=\\\"annotationTable\\\" class=\\\"display cell-border\\\" style=\\\"text-align:center\\\">\")\n",
    "    outputHtml.write(\"<thead><tr><th class=\\\" select-checkbox\\\"</th>\")\n",
    "    outputHtml.write(\"<th>Chr</th><th>Start</th><th>End</th><th>Ref</th><th>Alt</th><th>ExonicFunc.refGene</th><th>Gene.refGene</th><th>GO associations</th><th>HPO functions</th><th>All GO</th><th>All HPO</th></tr></thead><tbody>\")\n",
    "    \n",
    "    startURL = \"<a href = \\\"https://www.ebi.ac.uk/QuickGO/term/\"\n",
    "    startURLhpo = \"<a href = \\\"https://hpo.jax.org/app/browse/term/\"\n",
    "    aTagOpen = \"<a\"\n",
    "    aTagClosed = \"</a>\"\n",
    "\n",
    "    counterExonic = 0\n",
    "    counterNrnaExonic = 0\n",
    "    counterNo = 0\n",
    "    counter = 0\n",
    "    allExonicGenes = \"\"\n",
    "    #list of all gene IDs for Uniprot convert\n",
    "    \n",
    "    noGo = open(\"genesWithoutGO.txt\", \"w+\")\n",
    "    \n",
    "    with open(fileName, 'r') as file:\n",
    "        for line in file:\n",
    "            #line = file.readline()\n",
    "            pos = line.find(\"\\texonic\")\n",
    "            if pos != -1:\n",
    "                pos = pos + 1\n",
    "                currentGenePositionEnd = line.find(\"\\t\", pos+7) #pos+7 is start\n",
    "                currentGene = line[pos+7:currentGenePositionEnd]\n",
    "                if allExonicGenes.find(currentGene) == -1:\n",
    "                    #goNo, hpoNo, ncRna = False\n",
    "                    if counter > 200:\n",
    "                        break\n",
    "                    counter = counter + 1\n",
    "                    allExonicGenes = allExonicGenes + currentGene\n",
    "                    \n",
    "                    for j in range (0, len(variations[currentGene])):\n",
    "                        outputHtml.write(\"<tr><td></td><td>\") #first column for checkbox\n",
    "                        val = -1                                   \n",
    "\n",
    "                        #column chr\n",
    "                        outputHtml.write(variations[currentGene][j][5] + \"</td><td>\")\n",
    "                        \n",
    "                        #columns start, end, ref, alt\n",
    "                        for i in range(0, 5):\n",
    "                        #outputHtml.write(\" \".join(str(e[i] + \"<br />\") for e in variations[currentGene]))\n",
    "                            outputHtml.write(variations[currentGene][j][i] + \"</td><td>\")\n",
    "                        \n",
    "                        #outputHtml.write(\"</td><td>\")\n",
    "\n",
    "                        outputHtml.write(\"<span data-tippy-content=\\\"\" + currentGene + \"\\\">\")\n",
    "\n",
    "                        #column gene\n",
    "                        outputHtml.write(currentGene + \"</span></td><td>\")\n",
    "\n",
    "                    ##geneDetail\n",
    "                    #outputHtml.write(variations[currentGene][0][5] + \"</td><td>\")\n",
    "\n",
    "                    #exonic.Func                \n",
    "                    #outputHtml.write(\" \".join(str(e[5] + \"<br />\") for e in variations[currentGene]))\n",
    "                    #outputHtml.write(\"</td><td>\")\n",
    "\n",
    "                    #if line[pos-1:pos] == \"\\t\":\n",
    "                        #counterExonic = counterExonic + 1\n",
    "                        #output.write(currentGene)\n",
    "                        #output.write(\" \")\n",
    "                    #else:\n",
    "                        #counterNrnaExonic = counterNrnaExonic + 1\n",
    "                        #outputNrna.write(currentGene)\n",
    "                        #outputNrna.write(\" \")\n",
    "                        #ncRna = True                    \n",
    "\n",
    "                        if currentGene in geneGO:\n",
    "                            #outputHtml.write(\"*\".join(str(startURL + e[0] +\"\\\" target=\\\"_blank\\\">\" + e[1] + aTagClosed)  for e in geneGO[currentGene])+ \" \")#[:5]) + \" \") #GO\n",
    "                            if len(geneGO[currentGene]) > 10:\n",
    "                                #bootstrap tooltip\n",
    "                                #outputHtml.write(\" \".join(str(startURL + e[0] + \"\\\" data-toggle=\\\"tooltip\\\" title=\\\"\" + e[1] + \"\\\"\" + \"\\\" target=\\\"_blank\\\">\" + e[0] + \"<br />\" + aTagClosed)  for e in geneGO[currentGene][:5]) + \" \") #GO\n",
    "                                #outputHtml.write(\" \".join(str(startURL + e[0] + \"\\\" data-toggle=\\\"tooltip\\\" title=\\\"\" + e[1] + \"\\\"\" + \"\\\" target=\\\"_blank\\\" style=\\\"display:none\\\">\" + e[0] + \"<br /> \" +aTagClosed)  for e in geneGO[currentGene][5:]) + \" \") #GO\n",
    "\n",
    "                                #tippy tooltip\n",
    "                                outputHtml.write(\" \".join(str(startURL + e[0] + \"\\\" data-tippy-content=\\\"\"+ e[1] + \"\\\" target=\\\"_blank\\\">\" + e[0] + \"<br />\" + aTagClosed)  for e in geneGO[currentGene][:10]) + \" \") #GO\n",
    "                                outputHtml.write(\" \".join(str(startURL + e[0] + \"\\\" data-tippy-content=\\\"\"+ e[1] + \"\\\" target=\\\"_blank\\\" style=\\\"display:none\\\">\" + e[0] + \"<br /> \" +aTagClosed)  for e in geneGO[currentGene][10:]) + \" \") #GO\n",
    "                                #outputHtml.write(\"<datalist id=\"+\"GOs>\" + \" \".join(str(\"<option value=\" + \"<a href = https://www.ebi.ac.uk/QuickGO/term/\" + e + \">\" + e + \"</a> >\") for e in geneGO[currentGene][5:]) + \"</datalist>\") \n",
    "                            elif len(geneGO[currentGene]) >= 1:\n",
    "                                outputHtml.write(\" \".join(str(startURL + e[0] + \"\\\" data-tippy-content=\\\"\"+ e[1] + \"\\\" target=\\\"_blank\\\">\" + e[0] + \"<br /> \" + aTagClosed)  for e in geneGO[currentGene][:10]) + \" \") #GO\n",
    "                        else:\n",
    "                            noGo.write(\" \" + currentGene)\n",
    "\n",
    "                        outputHtml.write(\"</td><td>\")\n",
    "\n",
    "                        if currentGene in geneHpo:\n",
    "                            if len(geneHpo[currentGene]) > 10:\n",
    "                                outputHtml.write(\" \".join(str(startURLhpo + e[0] + \"\\\" data-tippy-content=\\\"\"+ e[1] + \"\\\" target=\\\"_blank\\\">\" + e[0] + \"<br />\" + aTagClosed)  for e in geneHpo[currentGene][:10]) + \" \")\n",
    "                                outputHtml.write(\" \".join(str(startURLhpo + e[0] + \"\\\" data-tippy-content=\\\"\"+ e[1] + \"\\\" target=\\\"_blank\\\" style=\\\"display:none\\\">\" + e[0] + \"<br /> \" +aTagClosed)  for e in geneHpo[currentGene][10:]) + \" \") #GO\n",
    "                                #outputHtml.write(\" \".join(str(startURLhpo + e +\"\\\" target=\\\"_blank\\\" style=\\\"display:none\\\">\" + e + \"<br /> \" +aTagClosed) for e in geneHpo[currentGene][5:]))\n",
    "                            elif len(geneHpo[currentGene]) >=1:\n",
    "                                outputHtml.write(\"<br />\".join(str(startURLhpo + e[0] + \"\\\" data-tippy-content=\" + e[1] + \"\\\" target=\\\"_blank\\\">\" + e[0] + aTagClosed)  for e in geneHpo[currentGene][:10]) + \" \") #GO\n",
    "                                #outputHtml.write(\" \".join(str(startURLhpo + e +\"\\\" target=\\\"_blank\\\">\" + e + aTagClosed) for e in geneHpo[currentGene][:5]))\n",
    "                                #outputHtml.write(\"</td><td>\")\n",
    "                            #else:\n",
    "                                #outputHtml.write(\"no info\")\n",
    "                                #hpoNo = True\n",
    "                                #if goNo and ncRna:\n",
    "                                    #counterNo = counterNo + 1\n",
    "\n",
    "                        outputHtml.write(\"</td><td><a href=\\\"https://www.ebi.ac.uk/QuickGO/annotations?geneProductId=O14764\\\" target=\\\"_blank\\\"><img src=\\\"icon1.png\\\" style=\\\"width:50%; height:50%\\\"></a></td><td><a href=\\\"https://hpo.jax.org/app/browse/gene/2563\\\" target=\\\"_blank\\\"><img src=\\\"icon2.png\\\"></a></td></tr>\\n\")\n",
    "\n",
    "    endOfTable = \"<tfoot><tr><th></th><th>Chr</th><th>Start</th><th>End</th><th>Ref</th><th>Alt</th><th>ExonicFunc.refGene</th><th>Gene.refGene</th><th>GO associations</th><th>HPO functions</th><th>All GO</th><th>All HPO</th></tr></tfoot></table>\"\n",
    "    outputHtml.write(\"</tbody>\")\n",
    "    outputHtml.write(endOfTable)\n",
    "    outputHtml.write(\"</body></html>\")\n"
   ]
  },
  {
   "cell_type": "code",
   "execution_count": 12,
   "metadata": {},
   "outputs": [
    {
     "name": "stdout",
     "output_type": "stream",
     "text": [
      "Calling annovar\n",
      "Annovar finished\n"
     ]
    }
   ],
   "source": [
    "import os, string\n",
    "\n",
    "print(\"Calling annovar\")\n",
    "\n",
    "#my_cmd = \"perl table_annovar.pl example/ex1.avinput humandb/ -buildver hg19 -out myanno -remove -protocol refGene,cytoBand,dbnsfp30a -operation g,r,f -nastring . -csvout -polish -xreffile example/gene_fullxref.txt\"\n",
    "#my_cmd = \"perl table_annovar.pl mom/mom.vcf humandb/ -buildver hg19 -out mom -remove -protocol refGene -operation g -nastring . -vcfinput -polish\n",
    "#my_cmd_output = os.popen(my_cmd)\n",
    "\n",
    "print (\"Annovar finished\")"
   ]
  },
  {
   "cell_type": "code",
   "execution_count": 13,
   "metadata": {},
   "outputs": [
    {
     "name": "stdout",
     "output_type": "stream",
     "text": [
      "goa_human.gaf data: 19691\n",
      "8268\n",
      "Variations: 8268\n"
     ]
    }
   ],
   "source": [
    "#createOutput(\"momAll.txt\")\n",
    "#createOutput(\"dadAll.txt\")\n",
    "#createOutput(\"sonAll.txt\")\n",
    "createOutput(\"mom.hg19_multianno.txt\")"
   ]
  },
  {
   "cell_type": "code",
   "execution_count": 14,
   "metadata": {},
   "outputs": [
    {
     "name": "stdout",
     "output_type": "stream",
     "text": [
      "Duration: 32.0s\n"
     ]
    }
   ],
   "source": [
    "duration = round(time.time() - start, 2)\n",
    "print(\"Duration: \" + str(duration) + \"s\")"
   ]
  },
  {
   "cell_type": "code",
   "execution_count": null,
   "metadata": {},
   "outputs": [],
   "source": []
  }
 ],
 "metadata": {
  "kernelspec": {
   "display_name": "Python 3",
   "language": "python",
   "name": "python3"
  },
  "language_info": {
   "codemirror_mode": {
    "name": "ipython",
    "version": 3
   },
   "file_extension": ".py",
   "mimetype": "text/x-python",
   "name": "python",
   "nbconvert_exporter": "python",
   "pygments_lexer": "ipython3",
   "version": "3.7.4"
  }
 },
 "nbformat": 4,
 "nbformat_minor": 2
}
